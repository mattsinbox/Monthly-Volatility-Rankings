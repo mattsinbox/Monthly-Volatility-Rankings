{
 "cells": [
  {
   "cell_type": "code",
   "execution_count": 1,
   "metadata": {},
   "outputs": [],
   "source": [
    "import pandas as pd\n",
    "import numpy as np"
   ]
  },
  {
   "cell_type": "code",
   "execution_count": 2,
   "metadata": {},
   "outputs": [],
   "source": [
    "from IPython.display import display # Allows the use of display() for DataFrames\n",
    "\n",
    "# Pretty display for notebooks\n",
    "%matplotlib inline"
   ]
  },
  {
   "cell_type": "code",
   "execution_count": 5,
   "metadata": {},
   "outputs": [],
   "source": [
    "import matplotlib.pyplot as plt"
   ]
  },
  {
   "cell_type": "code",
   "execution_count": 6,
   "metadata": {},
   "outputs": [],
   "source": [
    "#read csv file into og (original gangster)\n",
    "og = pd.read_csv(r\"C:\\Users\\Matt\\Desktop\\SP.csv\")"
   ]
  },
  {
   "cell_type": "code",
   "execution_count": 7,
   "metadata": {},
   "outputs": [
    {
     "data": {
      "text/plain": [
       "7559"
      ]
     },
     "execution_count": 7,
     "metadata": {},
     "output_type": "execute_result"
    }
   ],
   "source": [
    "#look at the volume of days in set\n",
    "len(og)"
   ]
  },
  {
   "cell_type": "code",
   "execution_count": 8,
   "metadata": {},
   "outputs": [
    {
     "data": {
      "text/html": [
       "<div>\n",
       "<style scoped>\n",
       "    .dataframe tbody tr th:only-of-type {\n",
       "        vertical-align: middle;\n",
       "    }\n",
       "\n",
       "    .dataframe tbody tr th {\n",
       "        vertical-align: top;\n",
       "    }\n",
       "\n",
       "    .dataframe thead th {\n",
       "        text-align: right;\n",
       "    }\n",
       "</style>\n",
       "<table border=\"1\" class=\"dataframe\">\n",
       "  <thead>\n",
       "    <tr style=\"text-align: right;\">\n",
       "      <th></th>\n",
       "      <th>Date</th>\n",
       "      <th>Open</th>\n",
       "      <th>High</th>\n",
       "      <th>Low</th>\n",
       "      <th>Close</th>\n",
       "      <th>Adj Close</th>\n",
       "      <th>Volume</th>\n",
       "    </tr>\n",
       "  </thead>\n",
       "  <tbody>\n",
       "    <tr>\n",
       "      <th>0</th>\n",
       "      <td>1/3/1989</td>\n",
       "      <td>277.720001</td>\n",
       "      <td>277.720001</td>\n",
       "      <td>273.809998</td>\n",
       "      <td>275.309998</td>\n",
       "      <td>275.309998</td>\n",
       "      <td>128500000</td>\n",
       "    </tr>\n",
       "    <tr>\n",
       "      <th>1</th>\n",
       "      <td>1/4/1989</td>\n",
       "      <td>275.309998</td>\n",
       "      <td>279.750000</td>\n",
       "      <td>275.309998</td>\n",
       "      <td>279.429993</td>\n",
       "      <td>279.429993</td>\n",
       "      <td>149700000</td>\n",
       "    </tr>\n",
       "    <tr>\n",
       "      <th>2</th>\n",
       "      <td>1/5/1989</td>\n",
       "      <td>279.429993</td>\n",
       "      <td>281.510010</td>\n",
       "      <td>279.429993</td>\n",
       "      <td>280.010010</td>\n",
       "      <td>280.010010</td>\n",
       "      <td>174040000</td>\n",
       "    </tr>\n",
       "    <tr>\n",
       "      <th>3</th>\n",
       "      <td>1/6/1989</td>\n",
       "      <td>280.010010</td>\n",
       "      <td>282.059998</td>\n",
       "      <td>280.010010</td>\n",
       "      <td>280.670013</td>\n",
       "      <td>280.670013</td>\n",
       "      <td>161330000</td>\n",
       "    </tr>\n",
       "    <tr>\n",
       "      <th>4</th>\n",
       "      <td>1/9/1989</td>\n",
       "      <td>280.670013</td>\n",
       "      <td>281.890015</td>\n",
       "      <td>280.320007</td>\n",
       "      <td>280.980011</td>\n",
       "      <td>280.980011</td>\n",
       "      <td>163180000</td>\n",
       "    </tr>\n",
       "  </tbody>\n",
       "</table>\n",
       "</div>"
      ],
      "text/plain": [
       "       Date        Open        High         Low       Close   Adj Close  \\\n",
       "0  1/3/1989  277.720001  277.720001  273.809998  275.309998  275.309998   \n",
       "1  1/4/1989  275.309998  279.750000  275.309998  279.429993  279.429993   \n",
       "2  1/5/1989  279.429993  281.510010  279.429993  280.010010  280.010010   \n",
       "3  1/6/1989  280.010010  282.059998  280.010010  280.670013  280.670013   \n",
       "4  1/9/1989  280.670013  281.890015  280.320007  280.980011  280.980011   \n",
       "\n",
       "      Volume  \n",
       "0  128500000  \n",
       "1  149700000  \n",
       "2  174040000  \n",
       "3  161330000  \n",
       "4  163180000  "
      ]
     },
     "execution_count": 8,
     "metadata": {},
     "output_type": "execute_result"
    }
   ],
   "source": [
    "og.head()"
   ]
  },
  {
   "cell_type": "code",
   "execution_count": 9,
   "metadata": {},
   "outputs": [],
   "source": [
    "#convert the year, month and day into their own columns for groupings\n",
    "og.Date = pd.to_datetime(og.Date)\n",
    "og['year'] = og.Date.dt.year\n",
    "og['month'] = og.Date.dt.month\n",
    "og['day'] = og.Date.dt.day\n",
    "\n"
   ]
  },
  {
   "cell_type": "code",
   "execution_count": 10,
   "metadata": {},
   "outputs": [
    {
     "data": {
      "text/html": [
       "<div>\n",
       "<style scoped>\n",
       "    .dataframe tbody tr th:only-of-type {\n",
       "        vertical-align: middle;\n",
       "    }\n",
       "\n",
       "    .dataframe tbody tr th {\n",
       "        vertical-align: top;\n",
       "    }\n",
       "\n",
       "    .dataframe thead th {\n",
       "        text-align: right;\n",
       "    }\n",
       "</style>\n",
       "<table border=\"1\" class=\"dataframe\">\n",
       "  <thead>\n",
       "    <tr style=\"text-align: right;\">\n",
       "      <th></th>\n",
       "      <th>Date</th>\n",
       "      <th>Open</th>\n",
       "      <th>High</th>\n",
       "      <th>Low</th>\n",
       "      <th>Close</th>\n",
       "      <th>Adj Close</th>\n",
       "      <th>Volume</th>\n",
       "      <th>year</th>\n",
       "      <th>month</th>\n",
       "      <th>day</th>\n",
       "    </tr>\n",
       "  </thead>\n",
       "  <tbody>\n",
       "    <tr>\n",
       "      <th>0</th>\n",
       "      <td>1989-01-03</td>\n",
       "      <td>277.720001</td>\n",
       "      <td>277.720001</td>\n",
       "      <td>273.809998</td>\n",
       "      <td>275.309998</td>\n",
       "      <td>275.309998</td>\n",
       "      <td>128500000</td>\n",
       "      <td>1989</td>\n",
       "      <td>1</td>\n",
       "      <td>3</td>\n",
       "    </tr>\n",
       "    <tr>\n",
       "      <th>1</th>\n",
       "      <td>1989-01-04</td>\n",
       "      <td>275.309998</td>\n",
       "      <td>279.750000</td>\n",
       "      <td>275.309998</td>\n",
       "      <td>279.429993</td>\n",
       "      <td>279.429993</td>\n",
       "      <td>149700000</td>\n",
       "      <td>1989</td>\n",
       "      <td>1</td>\n",
       "      <td>4</td>\n",
       "    </tr>\n",
       "    <tr>\n",
       "      <th>2</th>\n",
       "      <td>1989-01-05</td>\n",
       "      <td>279.429993</td>\n",
       "      <td>281.510010</td>\n",
       "      <td>279.429993</td>\n",
       "      <td>280.010010</td>\n",
       "      <td>280.010010</td>\n",
       "      <td>174040000</td>\n",
       "      <td>1989</td>\n",
       "      <td>1</td>\n",
       "      <td>5</td>\n",
       "    </tr>\n",
       "    <tr>\n",
       "      <th>3</th>\n",
       "      <td>1989-01-06</td>\n",
       "      <td>280.010010</td>\n",
       "      <td>282.059998</td>\n",
       "      <td>280.010010</td>\n",
       "      <td>280.670013</td>\n",
       "      <td>280.670013</td>\n",
       "      <td>161330000</td>\n",
       "      <td>1989</td>\n",
       "      <td>1</td>\n",
       "      <td>6</td>\n",
       "    </tr>\n",
       "    <tr>\n",
       "      <th>4</th>\n",
       "      <td>1989-01-09</td>\n",
       "      <td>280.670013</td>\n",
       "      <td>281.890015</td>\n",
       "      <td>280.320007</td>\n",
       "      <td>280.980011</td>\n",
       "      <td>280.980011</td>\n",
       "      <td>163180000</td>\n",
       "      <td>1989</td>\n",
       "      <td>1</td>\n",
       "      <td>9</td>\n",
       "    </tr>\n",
       "  </tbody>\n",
       "</table>\n",
       "</div>"
      ],
      "text/plain": [
       "        Date        Open        High         Low       Close   Adj Close  \\\n",
       "0 1989-01-03  277.720001  277.720001  273.809998  275.309998  275.309998   \n",
       "1 1989-01-04  275.309998  279.750000  275.309998  279.429993  279.429993   \n",
       "2 1989-01-05  279.429993  281.510010  279.429993  280.010010  280.010010   \n",
       "3 1989-01-06  280.010010  282.059998  280.010010  280.670013  280.670013   \n",
       "4 1989-01-09  280.670013  281.890015  280.320007  280.980011  280.980011   \n",
       "\n",
       "      Volume  year  month  day  \n",
       "0  128500000  1989      1    3  \n",
       "1  149700000  1989      1    4  \n",
       "2  174040000  1989      1    5  \n",
       "3  161330000  1989      1    6  \n",
       "4  163180000  1989      1    9  "
      ]
     },
     "execution_count": 10,
     "metadata": {},
     "output_type": "execute_result"
    }
   ],
   "source": [
    "#check the new columns\n",
    "og.head()"
   ]
  },
  {
   "cell_type": "code",
   "execution_count": 11,
   "metadata": {},
   "outputs": [],
   "source": [
    "#Create column that shows the absolute daily percentage change\n",
    "og['change'] = (((og.Close - og.Close.shift(1))/og['Close']).abs())"
   ]
  },
  {
   "cell_type": "code",
   "execution_count": 12,
   "metadata": {},
   "outputs": [
    {
     "data": {
      "text/html": [
       "<div>\n",
       "<style scoped>\n",
       "    .dataframe tbody tr th:only-of-type {\n",
       "        vertical-align: middle;\n",
       "    }\n",
       "\n",
       "    .dataframe tbody tr th {\n",
       "        vertical-align: top;\n",
       "    }\n",
       "\n",
       "    .dataframe thead th {\n",
       "        text-align: right;\n",
       "    }\n",
       "</style>\n",
       "<table border=\"1\" class=\"dataframe\">\n",
       "  <thead>\n",
       "    <tr style=\"text-align: right;\">\n",
       "      <th></th>\n",
       "      <th>Date</th>\n",
       "      <th>Open</th>\n",
       "      <th>High</th>\n",
       "      <th>Low</th>\n",
       "      <th>Close</th>\n",
       "      <th>Adj Close</th>\n",
       "      <th>Volume</th>\n",
       "      <th>year</th>\n",
       "      <th>month</th>\n",
       "      <th>day</th>\n",
       "      <th>change</th>\n",
       "    </tr>\n",
       "  </thead>\n",
       "  <tbody>\n",
       "    <tr>\n",
       "      <th>0</th>\n",
       "      <td>1989-01-03</td>\n",
       "      <td>277.720001</td>\n",
       "      <td>277.720001</td>\n",
       "      <td>273.809998</td>\n",
       "      <td>275.309998</td>\n",
       "      <td>275.309998</td>\n",
       "      <td>128500000</td>\n",
       "      <td>1989</td>\n",
       "      <td>1</td>\n",
       "      <td>3</td>\n",
       "      <td>NaN</td>\n",
       "    </tr>\n",
       "    <tr>\n",
       "      <th>1</th>\n",
       "      <td>1989-01-04</td>\n",
       "      <td>275.309998</td>\n",
       "      <td>279.750000</td>\n",
       "      <td>275.309998</td>\n",
       "      <td>279.429993</td>\n",
       "      <td>279.429993</td>\n",
       "      <td>149700000</td>\n",
       "      <td>1989</td>\n",
       "      <td>1</td>\n",
       "      <td>4</td>\n",
       "      <td>0.014744</td>\n",
       "    </tr>\n",
       "    <tr>\n",
       "      <th>2</th>\n",
       "      <td>1989-01-05</td>\n",
       "      <td>279.429993</td>\n",
       "      <td>281.510010</td>\n",
       "      <td>279.429993</td>\n",
       "      <td>280.010010</td>\n",
       "      <td>280.010010</td>\n",
       "      <td>174040000</td>\n",
       "      <td>1989</td>\n",
       "      <td>1</td>\n",
       "      <td>5</td>\n",
       "      <td>0.002071</td>\n",
       "    </tr>\n",
       "    <tr>\n",
       "      <th>3</th>\n",
       "      <td>1989-01-06</td>\n",
       "      <td>280.010010</td>\n",
       "      <td>282.059998</td>\n",
       "      <td>280.010010</td>\n",
       "      <td>280.670013</td>\n",
       "      <td>280.670013</td>\n",
       "      <td>161330000</td>\n",
       "      <td>1989</td>\n",
       "      <td>1</td>\n",
       "      <td>6</td>\n",
       "      <td>0.002352</td>\n",
       "    </tr>\n",
       "    <tr>\n",
       "      <th>4</th>\n",
       "      <td>1989-01-09</td>\n",
       "      <td>280.670013</td>\n",
       "      <td>281.890015</td>\n",
       "      <td>280.320007</td>\n",
       "      <td>280.980011</td>\n",
       "      <td>280.980011</td>\n",
       "      <td>163180000</td>\n",
       "      <td>1989</td>\n",
       "      <td>1</td>\n",
       "      <td>9</td>\n",
       "      <td>0.001103</td>\n",
       "    </tr>\n",
       "  </tbody>\n",
       "</table>\n",
       "</div>"
      ],
      "text/plain": [
       "        Date        Open        High         Low       Close   Adj Close  \\\n",
       "0 1989-01-03  277.720001  277.720001  273.809998  275.309998  275.309998   \n",
       "1 1989-01-04  275.309998  279.750000  275.309998  279.429993  279.429993   \n",
       "2 1989-01-05  279.429993  281.510010  279.429993  280.010010  280.010010   \n",
       "3 1989-01-06  280.010010  282.059998  280.010010  280.670013  280.670013   \n",
       "4 1989-01-09  280.670013  281.890015  280.320007  280.980011  280.980011   \n",
       "\n",
       "      Volume  year  month  day    change  \n",
       "0  128500000  1989      1    3       NaN  \n",
       "1  149700000  1989      1    4  0.014744  \n",
       "2  174040000  1989      1    5  0.002071  \n",
       "3  161330000  1989      1    6  0.002352  \n",
       "4  163180000  1989      1    9  0.001103  "
      ]
     },
     "execution_count": 12,
     "metadata": {},
     "output_type": "execute_result"
    }
   ],
   "source": [
    "#test that change went through\n",
    "og.head()"
   ]
  },
  {
   "cell_type": "code",
   "execution_count": 13,
   "metadata": {},
   "outputs": [],
   "source": [
    "#my brain is asking to see the month names when analyzing \n",
    "\n",
    "og['month'] = og['month'].map({1: 'Jan', 2: 'Feb', 3: 'March', 4: 'April', 5: 'May', 6: 'June',\n",
    "                              7: 'July', 8: 'Aug', 9: 'Sep', \n",
    "                               10: 'Oct', 11: 'Nov', 12: 'Dec',})"
   ]
  },
  {
   "cell_type": "code",
   "execution_count": 14,
   "metadata": {},
   "outputs": [
    {
     "data": {
      "text/html": [
       "<div>\n",
       "<style scoped>\n",
       "    .dataframe tbody tr th:only-of-type {\n",
       "        vertical-align: middle;\n",
       "    }\n",
       "\n",
       "    .dataframe tbody tr th {\n",
       "        vertical-align: top;\n",
       "    }\n",
       "\n",
       "    .dataframe thead th {\n",
       "        text-align: right;\n",
       "    }\n",
       "</style>\n",
       "<table border=\"1\" class=\"dataframe\">\n",
       "  <thead>\n",
       "    <tr style=\"text-align: right;\">\n",
       "      <th></th>\n",
       "      <th>Date</th>\n",
       "      <th>Open</th>\n",
       "      <th>High</th>\n",
       "      <th>Low</th>\n",
       "      <th>Close</th>\n",
       "      <th>Adj Close</th>\n",
       "      <th>Volume</th>\n",
       "      <th>year</th>\n",
       "      <th>month</th>\n",
       "      <th>day</th>\n",
       "      <th>change</th>\n",
       "    </tr>\n",
       "  </thead>\n",
       "  <tbody>\n",
       "    <tr>\n",
       "      <th>0</th>\n",
       "      <td>1989-01-03</td>\n",
       "      <td>277.720001</td>\n",
       "      <td>277.720001</td>\n",
       "      <td>273.809998</td>\n",
       "      <td>275.309998</td>\n",
       "      <td>275.309998</td>\n",
       "      <td>128500000</td>\n",
       "      <td>1989</td>\n",
       "      <td>Jan</td>\n",
       "      <td>3</td>\n",
       "      <td>NaN</td>\n",
       "    </tr>\n",
       "    <tr>\n",
       "      <th>1</th>\n",
       "      <td>1989-01-04</td>\n",
       "      <td>275.309998</td>\n",
       "      <td>279.750000</td>\n",
       "      <td>275.309998</td>\n",
       "      <td>279.429993</td>\n",
       "      <td>279.429993</td>\n",
       "      <td>149700000</td>\n",
       "      <td>1989</td>\n",
       "      <td>Jan</td>\n",
       "      <td>4</td>\n",
       "      <td>0.014744</td>\n",
       "    </tr>\n",
       "    <tr>\n",
       "      <th>2</th>\n",
       "      <td>1989-01-05</td>\n",
       "      <td>279.429993</td>\n",
       "      <td>281.510010</td>\n",
       "      <td>279.429993</td>\n",
       "      <td>280.010010</td>\n",
       "      <td>280.010010</td>\n",
       "      <td>174040000</td>\n",
       "      <td>1989</td>\n",
       "      <td>Jan</td>\n",
       "      <td>5</td>\n",
       "      <td>0.002071</td>\n",
       "    </tr>\n",
       "    <tr>\n",
       "      <th>3</th>\n",
       "      <td>1989-01-06</td>\n",
       "      <td>280.010010</td>\n",
       "      <td>282.059998</td>\n",
       "      <td>280.010010</td>\n",
       "      <td>280.670013</td>\n",
       "      <td>280.670013</td>\n",
       "      <td>161330000</td>\n",
       "      <td>1989</td>\n",
       "      <td>Jan</td>\n",
       "      <td>6</td>\n",
       "      <td>0.002352</td>\n",
       "    </tr>\n",
       "    <tr>\n",
       "      <th>4</th>\n",
       "      <td>1989-01-09</td>\n",
       "      <td>280.670013</td>\n",
       "      <td>281.890015</td>\n",
       "      <td>280.320007</td>\n",
       "      <td>280.980011</td>\n",
       "      <td>280.980011</td>\n",
       "      <td>163180000</td>\n",
       "      <td>1989</td>\n",
       "      <td>Jan</td>\n",
       "      <td>9</td>\n",
       "      <td>0.001103</td>\n",
       "    </tr>\n",
       "  </tbody>\n",
       "</table>\n",
       "</div>"
      ],
      "text/plain": [
       "        Date        Open        High         Low       Close   Adj Close  \\\n",
       "0 1989-01-03  277.720001  277.720001  273.809998  275.309998  275.309998   \n",
       "1 1989-01-04  275.309998  279.750000  275.309998  279.429993  279.429993   \n",
       "2 1989-01-05  279.429993  281.510010  279.429993  280.010010  280.010010   \n",
       "3 1989-01-06  280.010010  282.059998  280.010010  280.670013  280.670013   \n",
       "4 1989-01-09  280.670013  281.890015  280.320007  280.980011  280.980011   \n",
       "\n",
       "      Volume  year month  day    change  \n",
       "0  128500000  1989   Jan    3       NaN  \n",
       "1  149700000  1989   Jan    4  0.014744  \n",
       "2  174040000  1989   Jan    5  0.002071  \n",
       "3  161330000  1989   Jan    6  0.002352  \n",
       "4  163180000  1989   Jan    9  0.001103  "
      ]
     },
     "execution_count": 14,
     "metadata": {},
     "output_type": "execute_result"
    }
   ],
   "source": [
    "og.head()"
   ]
  },
  {
   "cell_type": "code",
   "execution_count": 15,
   "metadata": {},
   "outputs": [],
   "source": [
    "og = og.dropna(how='any',axis=0) "
   ]
  },
  {
   "cell_type": "code",
   "execution_count": 16,
   "metadata": {},
   "outputs": [
    {
     "data": {
      "text/plain": [
       "count    7558.000000\n",
       "mean        0.007401\n",
       "std         0.008159\n",
       "min         0.000000\n",
       "25%         0.002141\n",
       "50%         0.005002\n",
       "75%         0.009911\n",
       "max         0.103782\n",
       "Name: change, dtype: float64"
      ]
     },
     "execution_count": 16,
     "metadata": {},
     "output_type": "execute_result"
    }
   ],
   "source": [
    "#look at basic statistics on the change column\n",
    "og.change.describe()"
   ]
  },
  {
   "cell_type": "code",
   "execution_count": 17,
   "metadata": {},
   "outputs": [
    {
     "data": {
      "text/plain": [
       "month\n",
       "Oct      0.009036\n",
       "Sep      0.007748\n",
       "Nov      0.007694\n",
       "Jan      0.007484\n",
       "March    0.007451\n",
       "Aug      0.007367\n",
       "Feb      0.007293\n",
       "April    0.007237\n",
       "July     0.006991\n",
       "Dec      0.006907\n",
       "May      0.006835\n",
       "June     0.006708\n",
       "Name: change, dtype: float64"
      ]
     },
     "execution_count": 17,
     "metadata": {},
     "output_type": "execute_result"
    }
   ],
   "source": [
    "#groupby monthly change and sort order by mean of change\n",
    "change_mean = og.groupby(['month']).change.mean()\n",
    "change_mean = change_mean.sort_values(ascending = False)\n",
    "change_mean"
   ]
  },
  {
   "cell_type": "code",
   "execution_count": 18,
   "metadata": {},
   "outputs": [
    {
     "data": {
      "text/plain": [
       "month\n",
       "Oct      0.011572\n",
       "Sep      0.009291\n",
       "Nov      0.009260\n",
       "Aug      0.008719\n",
       "March    0.008109\n",
       "Dec      0.007816\n",
       "Jan      0.007461\n",
       "Feb      0.007088\n",
       "April    0.007061\n",
       "July     0.006849\n",
       "May      0.006379\n",
       "June     0.006285\n",
       "Name: change, dtype: float64"
      ]
     },
     "execution_count": 18,
     "metadata": {},
     "output_type": "execute_result"
    }
   ],
   "source": [
    "#groupby monthly change and sort order by std of change\n",
    "change_std = og.groupby(['month']).change.std()\n",
    "change_std = change_std.sort_values(ascending = False)\n",
    "change_std"
   ]
  },
  {
   "cell_type": "code",
   "execution_count": 19,
   "metadata": {},
   "outputs": [
    {
     "data": {
      "text/plain": [
       "count    12.000000\n",
       "mean      0.007396\n",
       "std       0.000614\n",
       "min       0.006708\n",
       "25%       0.006970\n",
       "50%       0.007330\n",
       "75%       0.007537\n",
       "max       0.009036\n",
       "Name: change, dtype: float64"
      ]
     },
     "execution_count": 19,
     "metadata": {},
     "output_type": "execute_result"
    }
   ],
   "source": [
    "change_mean.describe()"
   ]
  },
  {
   "cell_type": "code",
   "execution_count": 19,
   "metadata": {},
   "outputs": [
    {
     "data": {
      "image/png": "[encoded data removed]",
      "text/plain": [
       "<Figure size 432x288 with 1 Axes>"
      ]
     },
     "metadata": {},
     "output_type": "display_data"
    }
   ],
   "source": [
    "#maybe some outliers are skewing these means\n",
    "#look at a histogram of the change column\n",
    "plt.hist(og.change);"
   ]
  },
  {
   "cell_type": "code",
   "execution_count": 20,
   "metadata": {},
   "outputs": [],
   "source": [
    "#create function to remove some of the major outliers in the dataset and sort by year\n",
    "#created a function where the user sets how many standard deviations\n",
    "#from the mean in column change to remove from dataframe and what years to include in the set\n",
    "\n",
    "def custom_df(df, deviations, start_year, end_year):\n",
    "    std = df.change.std()\n",
    "    meany = df.change.mean()\n",
    "    away = (std * deviations) + meany\n",
    "    df = df[(df['change'] < away)]\n",
    "    df = df[(df['year'] >= start_year)]\n",
    "    df = df[(df['year'] <= end_year)]\n",
    "    return df\n",
    "    "
   ]
  },
  {
   "cell_type": "code",
   "execution_count": 21,
   "metadata": {},
   "outputs": [],
   "source": [
    "#create new dataframe with function\n",
    "new_df = custom_df(og, 5, 2015, 2020)"
   ]
  },
  {
   "cell_type": "code",
   "execution_count": 22,
   "metadata": {},
   "outputs": [
    {
     "data": {
      "text/plain": [
       "1006"
      ]
     },
     "execution_count": 22,
     "metadata": {},
     "output_type": "execute_result"
    }
   ],
   "source": [
    "#look at how many days are in our new dataframe\n",
    "len(new_df)"
   ]
  },
  {
   "cell_type": "code",
   "execution_count": 23,
   "metadata": {},
   "outputs": [
    {
     "data": {
      "text/html": [
       "<div>\n",
       "<style scoped>\n",
       "    .dataframe tbody tr th:only-of-type {\n",
       "        vertical-align: middle;\n",
       "    }\n",
       "\n",
       "    .dataframe tbody tr th {\n",
       "        vertical-align: top;\n",
       "    }\n",
       "\n",
       "    .dataframe thead th {\n",
       "        text-align: right;\n",
       "    }\n",
       "</style>\n",
       "<table border=\"1\" class=\"dataframe\">\n",
       "  <thead>\n",
       "    <tr style=\"text-align: right;\">\n",
       "      <th></th>\n",
       "      <th>Date</th>\n",
       "      <th>Open</th>\n",
       "      <th>High</th>\n",
       "      <th>Low</th>\n",
       "      <th>Close</th>\n",
       "      <th>Adj Close</th>\n",
       "      <th>Volume</th>\n",
       "      <th>year</th>\n",
       "      <th>month</th>\n",
       "      <th>day</th>\n",
       "      <th>change</th>\n",
       "    </tr>\n",
       "  </thead>\n",
       "  <tbody>\n",
       "    <tr>\n",
       "      <th>7554</th>\n",
       "      <td>2018-12-24</td>\n",
       "      <td>2400.560059</td>\n",
       "      <td>2410.340088</td>\n",
       "      <td>2351.100098</td>\n",
       "      <td>2351.100098</td>\n",
       "      <td>2351.100098</td>\n",
       "      <td>2613930000</td>\n",
       "      <td>2018</td>\n",
       "      <td>Dec</td>\n",
       "      <td>24</td>\n",
       "      <td>0.027868</td>\n",
       "    </tr>\n",
       "    <tr>\n",
       "      <th>7555</th>\n",
       "      <td>2018-12-26</td>\n",
       "      <td>2363.120117</td>\n",
       "      <td>2467.760010</td>\n",
       "      <td>2346.580078</td>\n",
       "      <td>2467.699951</td>\n",
       "      <td>2467.699951</td>\n",
       "      <td>4233990000</td>\n",
       "      <td>2018</td>\n",
       "      <td>Dec</td>\n",
       "      <td>26</td>\n",
       "      <td>0.047250</td>\n",
       "    </tr>\n",
       "    <tr>\n",
       "      <th>7556</th>\n",
       "      <td>2018-12-27</td>\n",
       "      <td>2442.500000</td>\n",
       "      <td>2489.100098</td>\n",
       "      <td>2397.939941</td>\n",
       "      <td>2488.830078</td>\n",
       "      <td>2488.830078</td>\n",
       "      <td>4096610000</td>\n",
       "      <td>2018</td>\n",
       "      <td>Dec</td>\n",
       "      <td>27</td>\n",
       "      <td>0.008490</td>\n",
       "    </tr>\n",
       "    <tr>\n",
       "      <th>7557</th>\n",
       "      <td>2018-12-28</td>\n",
       "      <td>2498.770020</td>\n",
       "      <td>2520.270020</td>\n",
       "      <td>2472.889893</td>\n",
       "      <td>2485.739990</td>\n",
       "      <td>2485.739990</td>\n",
       "      <td>3702620000</td>\n",
       "      <td>2018</td>\n",
       "      <td>Dec</td>\n",
       "      <td>28</td>\n",
       "      <td>0.001243</td>\n",
       "    </tr>\n",
       "    <tr>\n",
       "      <th>7558</th>\n",
       "      <td>2018-12-31</td>\n",
       "      <td>2498.939941</td>\n",
       "      <td>2509.239990</td>\n",
       "      <td>2482.820068</td>\n",
       "      <td>2506.850098</td>\n",
       "      <td>2506.850098</td>\n",
       "      <td>3442870000</td>\n",
       "      <td>2018</td>\n",
       "      <td>Dec</td>\n",
       "      <td>31</td>\n",
       "      <td>0.008421</td>\n",
       "    </tr>\n",
       "  </tbody>\n",
       "</table>\n",
       "</div>"
      ],
      "text/plain": [
       "           Date         Open         High          Low        Close  \\\n",
       "7554 2018-12-24  2400.560059  2410.340088  2351.100098  2351.100098   \n",
       "7555 2018-12-26  2363.120117  2467.760010  2346.580078  2467.699951   \n",
       "7556 2018-12-27  2442.500000  2489.100098  2397.939941  2488.830078   \n",
       "7557 2018-12-28  2498.770020  2520.270020  2472.889893  2485.739990   \n",
       "7558 2018-12-31  2498.939941  2509.239990  2482.820068  2506.850098   \n",
       "\n",
       "        Adj Close      Volume  year month  day    change  \n",
       "7554  2351.100098  2613930000  2018   Dec   24  0.027868  \n",
       "7555  2467.699951  4233990000  2018   Dec   26  0.047250  \n",
       "7556  2488.830078  4096610000  2018   Dec   27  0.008490  \n",
       "7557  2485.739990  3702620000  2018   Dec   28  0.001243  \n",
       "7558  2506.850098  3442870000  2018   Dec   31  0.008421  "
      ]
     },
     "execution_count": 23,
     "metadata": {},
     "output_type": "execute_result"
    }
   ],
   "source": [
    "#look at tail to ensure function is including right days\n",
    "new_df.tail()"
   ]
  },
  {
   "cell_type": "code",
   "execution_count": 24,
   "metadata": {},
   "outputs": [
    {
     "data": {
      "text/html": [
       "<div>\n",
       "<style scoped>\n",
       "    .dataframe tbody tr th:only-of-type {\n",
       "        vertical-align: middle;\n",
       "    }\n",
       "\n",
       "    .dataframe tbody tr th {\n",
       "        vertical-align: top;\n",
       "    }\n",
       "\n",
       "    .dataframe thead th {\n",
       "        text-align: right;\n",
       "    }\n",
       "</style>\n",
       "<table border=\"1\" class=\"dataframe\">\n",
       "  <thead>\n",
       "    <tr style=\"text-align: right;\">\n",
       "      <th></th>\n",
       "      <th>Date</th>\n",
       "      <th>Open</th>\n",
       "      <th>High</th>\n",
       "      <th>Low</th>\n",
       "      <th>Close</th>\n",
       "      <th>Adj Close</th>\n",
       "      <th>Volume</th>\n",
       "      <th>year</th>\n",
       "      <th>month</th>\n",
       "      <th>day</th>\n",
       "      <th>change</th>\n",
       "    </tr>\n",
       "  </thead>\n",
       "  <tbody>\n",
       "    <tr>\n",
       "      <th>6553</th>\n",
       "      <td>2015-01-02</td>\n",
       "      <td>2058.899902</td>\n",
       "      <td>2072.360107</td>\n",
       "      <td>2046.040039</td>\n",
       "      <td>2058.199951</td>\n",
       "      <td>2058.199951</td>\n",
       "      <td>2708700000</td>\n",
       "      <td>2015</td>\n",
       "      <td>Jan</td>\n",
       "      <td>2</td>\n",
       "      <td>0.000340</td>\n",
       "    </tr>\n",
       "    <tr>\n",
       "      <th>6554</th>\n",
       "      <td>2015-01-05</td>\n",
       "      <td>2054.439941</td>\n",
       "      <td>2054.439941</td>\n",
       "      <td>2017.339966</td>\n",
       "      <td>2020.579956</td>\n",
       "      <td>2020.579956</td>\n",
       "      <td>3799120000</td>\n",
       "      <td>2015</td>\n",
       "      <td>Jan</td>\n",
       "      <td>5</td>\n",
       "      <td>0.018618</td>\n",
       "    </tr>\n",
       "    <tr>\n",
       "      <th>6555</th>\n",
       "      <td>2015-01-06</td>\n",
       "      <td>2022.150024</td>\n",
       "      <td>2030.250000</td>\n",
       "      <td>1992.439941</td>\n",
       "      <td>2002.609985</td>\n",
       "      <td>2002.609985</td>\n",
       "      <td>4460110000</td>\n",
       "      <td>2015</td>\n",
       "      <td>Jan</td>\n",
       "      <td>6</td>\n",
       "      <td>0.008973</td>\n",
       "    </tr>\n",
       "    <tr>\n",
       "      <th>6556</th>\n",
       "      <td>2015-01-07</td>\n",
       "      <td>2005.550049</td>\n",
       "      <td>2029.609985</td>\n",
       "      <td>2005.550049</td>\n",
       "      <td>2025.900024</td>\n",
       "      <td>2025.900024</td>\n",
       "      <td>3805480000</td>\n",
       "      <td>2015</td>\n",
       "      <td>Jan</td>\n",
       "      <td>7</td>\n",
       "      <td>0.011496</td>\n",
       "    </tr>\n",
       "    <tr>\n",
       "      <th>6557</th>\n",
       "      <td>2015-01-08</td>\n",
       "      <td>2030.609985</td>\n",
       "      <td>2064.080078</td>\n",
       "      <td>2030.609985</td>\n",
       "      <td>2062.139893</td>\n",
       "      <td>2062.139893</td>\n",
       "      <td>3934010000</td>\n",
       "      <td>2015</td>\n",
       "      <td>Jan</td>\n",
       "      <td>8</td>\n",
       "      <td>0.017574</td>\n",
       "    </tr>\n",
       "  </tbody>\n",
       "</table>\n",
       "</div>"
      ],
      "text/plain": [
       "           Date         Open         High          Low        Close  \\\n",
       "6553 2015-01-02  2058.899902  2072.360107  2046.040039  2058.199951   \n",
       "6554 2015-01-05  2054.439941  2054.439941  2017.339966  2020.579956   \n",
       "6555 2015-01-06  2022.150024  2030.250000  1992.439941  2002.609985   \n",
       "6556 2015-01-07  2005.550049  2029.609985  2005.550049  2025.900024   \n",
       "6557 2015-01-08  2030.609985  2064.080078  2030.609985  2062.139893   \n",
       "\n",
       "        Adj Close      Volume  year month  day    change  \n",
       "6553  2058.199951  2708700000  2015   Jan    2  0.000340  \n",
       "6554  2020.579956  3799120000  2015   Jan    5  0.018618  \n",
       "6555  2002.609985  4460110000  2015   Jan    6  0.008973  \n",
       "6556  2025.900024  3805480000  2015   Jan    7  0.011496  \n",
       "6557  2062.139893  3934010000  2015   Jan    8  0.017574  "
      ]
     },
     "execution_count": 24,
     "metadata": {},
     "output_type": "execute_result"
    }
   ],
   "source": [
    "#look at head to ensure function is including the correct starting days\n",
    "new_df.head()"
   ]
  },
  {
   "cell_type": "code",
   "execution_count": 25,
   "metadata": {},
   "outputs": [
    {
     "data": {
      "text/plain": [
       "month\n",
       "July     0.004180\n",
       "May      0.004662\n",
       "June     0.005082\n",
       "Aug      0.005319\n",
       "April    0.005397\n",
       "Nov      0.005591\n",
       "Oct      0.005765\n",
       "Sep      0.005803\n",
       "March    0.006258\n",
       "Feb      0.007382\n",
       "Jan      0.007503\n",
       "Dec      0.007601\n",
       "Name: change, dtype: float64"
      ]
     },
     "execution_count": 25,
     "metadata": {},
     "output_type": "execute_result"
    }
   ],
   "source": [
    "#groupby month for the means of the change column and sort by the values with least volatile months first\n",
    "customized = new_df.groupby(['month']).change.mean().sort_values(ascending = True)\n",
    "customized"
   ]
  },
  {
   "cell_type": "code",
   "execution_count": 26,
   "metadata": {},
   "outputs": [],
   "source": [
    "#send groupby to a list\n",
    "new_list = customized.index.tolist()"
   ]
  },
  {
   "cell_type": "code",
   "execution_count": 27,
   "metadata": {},
   "outputs": [
    {
     "data": {
      "text/plain": [
       "['July',\n",
       " 'May',\n",
       " 'June',\n",
       " 'Aug',\n",
       " 'April',\n",
       " 'Nov',\n",
       " 'Oct',\n",
       " 'Sep',\n",
       " 'March',\n",
       " 'Feb',\n",
       " 'Jan',\n",
       " 'Dec']"
      ]
     },
     "execution_count": 27,
     "metadata": {},
     "output_type": "execute_result"
    }
   ],
   "source": [
    "#show list\n",
    "new_list"
   ]
  },
  {
   "cell_type": "code",
   "execution_count": 67,
   "metadata": {},
   "outputs": [
    {
     "data": {
      "text/plain": [
       "1"
      ]
     },
     "execution_count": 67,
     "metadata": {},
     "output_type": "execute_result"
    }
   ],
   "source": [
    "#find the index of month in list\n",
    "new_list.index('July') + 1 "
   ]
  },
  {
   "cell_type": "code",
   "execution_count": 71,
   "metadata": {},
   "outputs": [],
   "source": [
    "#created a function which transforms a dataframe that \n",
    "#comprises of daily market data and includes\n",
    "#the percent daily change ('change') and the month's name ('month')\n",
    "#function will return \n",
    "#the average volatility rank for each month per year\n",
    "#As an input, users define the\n",
    "#dataframe (frame), the begining period (start_year), the ending period (end_year)\n",
    "\n",
    "\n",
    "def rank_month(frame, start_year, end_year):\n",
    "    the_year = start_year\n",
    "    Jan = []\n",
    "    Feb = []\n",
    "    March = []\n",
    "    April = []\n",
    "    May = []\n",
    "    June = []\n",
    "    July = []\n",
    "    Aug = []\n",
    "    Sep = []\n",
    "    Oct = []\n",
    "    Nov = []\n",
    "    Dec = []\n",
    "    Period = []\n",
    "    \n",
    "    while the_year < end_year:\n",
    "        df = frame[(frame['year'] == the_year)]\n",
    "        months_grouped = df.groupby(['month']).change.mean().sort_values(ascending = True)\n",
    "        new_list = months_grouped.index.tolist()\n",
    "        Jan.append(new_list.index('Jan') + 1) \n",
    "        Feb.append(new_list.index('Feb') + 1)\n",
    "        March.append(new_list.index('March') + 1)\n",
    "        April.append(new_list.index('April') + 1)\n",
    "        May.append(new_list.index('May') + 1)\n",
    "        June.append(new_list.index('June') + 1)\n",
    "        July.append(new_list.index('July') + 1)\n",
    "        Aug.append(new_list.index('Aug') + 1)\n",
    "        Sep.append(new_list.index('Sep') + 1)\n",
    "        Oct.append(new_list.index('Oct') + 1)\n",
    "        Nov.append(new_list.index('Nov') + 1)\n",
    "        Dec.append(new_list.index('Dec') + 1)\n",
    "        \n",
    "        Period.append(the_year)\n",
    "        \n",
    "        the_year = the_year + 1  \n",
    "    \n",
    "    rank = [('Year', Period),\n",
    "            ('Jan', Jan),\n",
    "            ('Feb', Feb),\n",
    "            ('March', March),\n",
    "            ('April', April),\n",
    "            ('May', May),\n",
    "            ('June', June),\n",
    "            ('July',July),\n",
    "            ('Aug', Aug),\n",
    "            ('Sep', Sep),\n",
    "            ('Oct', Oct),\n",
    "            ('Nov', Nov),\n",
    "            ('Dec', Dec),\n",
    "           ]\n",
    "    df = pd.DataFrame.from_items(rank)\n",
    "    \n",
    "        \n",
    "    return df"
   ]
  },
  {
   "cell_type": "code",
   "execution_count": 72,
   "metadata": {},
   "outputs": [
    {
     "name": "stderr",
     "output_type": "stream",
     "text": [
      "C:\\Users\\Matt\\Anaconda3\\lib\\site-packages\\ipykernel_launcher.py:61: FutureWarning: from_items is deprecated. Please use DataFrame.from_dict(dict(items), ...) instead. DataFrame.from_dict(OrderedDict(items)) may be used to preserve the key order.\n"
     ]
    }
   ],
   "source": [
    "#create a new dataframe with function rank_month\n",
    "\n",
    "new_found_df = rank_month(og, 1995, 2010)"
   ]
  },
  {
   "cell_type": "code",
   "execution_count": 73,
   "metadata": {},
   "outputs": [
    {
     "data": {
      "text/html": [
       "<div>\n",
       "<style scoped>\n",
       "    .dataframe tbody tr th:only-of-type {\n",
       "        vertical-align: middle;\n",
       "    }\n",
       "\n",
       "    .dataframe tbody tr th {\n",
       "        vertical-align: top;\n",
       "    }\n",
       "\n",
       "    .dataframe thead th {\n",
       "        text-align: right;\n",
       "    }\n",
       "</style>\n",
       "<table border=\"1\" class=\"dataframe\">\n",
       "  <thead>\n",
       "    <tr style=\"text-align: right;\">\n",
       "      <th></th>\n",
       "      <th>Year</th>\n",
       "      <th>Jan</th>\n",
       "      <th>Feb</th>\n",
       "      <th>March</th>\n",
       "      <th>April</th>\n",
       "      <th>May</th>\n",
       "      <th>June</th>\n",
       "      <th>July</th>\n",
       "      <th>Aug</th>\n",
       "      <th>Sep</th>\n",
       "      <th>Oct</th>\n",
       "      <th>Nov</th>\n",
       "      <th>Dec</th>\n",
       "    </tr>\n",
       "  </thead>\n",
       "  <tbody>\n",
       "    <tr>\n",
       "      <th>0</th>\n",
       "      <td>1995</td>\n",
       "      <td>2</td>\n",
       "      <td>6</td>\n",
       "      <td>4</td>\n",
       "      <td>3</td>\n",
       "      <td>9</td>\n",
       "      <td>8</td>\n",
       "      <td>11</td>\n",
       "      <td>1</td>\n",
       "      <td>5</td>\n",
       "      <td>7</td>\n",
       "      <td>10</td>\n",
       "      <td>12</td>\n",
       "    </tr>\n",
       "    <tr>\n",
       "      <th>1</th>\n",
       "      <td>1996</td>\n",
       "      <td>9</td>\n",
       "      <td>10</td>\n",
       "      <td>8</td>\n",
       "      <td>5</td>\n",
       "      <td>7</td>\n",
       "      <td>1</td>\n",
       "      <td>12</td>\n",
       "      <td>6</td>\n",
       "      <td>2</td>\n",
       "      <td>3</td>\n",
       "      <td>4</td>\n",
       "      <td>11</td>\n",
       "    </tr>\n",
       "    <tr>\n",
       "      <th>2</th>\n",
       "      <td>1997</td>\n",
       "      <td>1</td>\n",
       "      <td>3</td>\n",
       "      <td>7</td>\n",
       "      <td>10</td>\n",
       "      <td>6</td>\n",
       "      <td>2</td>\n",
       "      <td>4</td>\n",
       "      <td>9</td>\n",
       "      <td>5</td>\n",
       "      <td>12</td>\n",
       "      <td>11</td>\n",
       "      <td>8</td>\n",
       "    </tr>\n",
       "    <tr>\n",
       "      <th>3</th>\n",
       "      <td>1998</td>\n",
       "      <td>8</td>\n",
       "      <td>2</td>\n",
       "      <td>1</td>\n",
       "      <td>4</td>\n",
       "      <td>3</td>\n",
       "      <td>5</td>\n",
       "      <td>7</td>\n",
       "      <td>11</td>\n",
       "      <td>12</td>\n",
       "      <td>10</td>\n",
       "      <td>6</td>\n",
       "      <td>9</td>\n",
       "    </tr>\n",
       "    <tr>\n",
       "      <th>4</th>\n",
       "      <td>1999</td>\n",
       "      <td>10</td>\n",
       "      <td>11</td>\n",
       "      <td>7</td>\n",
       "      <td>6</td>\n",
       "      <td>9</td>\n",
       "      <td>4</td>\n",
       "      <td>3</td>\n",
       "      <td>8</td>\n",
       "      <td>5</td>\n",
       "      <td>12</td>\n",
       "      <td>2</td>\n",
       "      <td>1</td>\n",
       "    </tr>\n",
       "  </tbody>\n",
       "</table>\n",
       "</div>"
      ],
      "text/plain": [
       "   Year  Jan  Feb  March  April  May  June  July  Aug  Sep  Oct  Nov  Dec\n",
       "0  1995    2    6      4      3    9     8    11    1    5    7   10   12\n",
       "1  1996    9   10      8      5    7     1    12    6    2    3    4   11\n",
       "2  1997    1    3      7     10    6     2     4    9    5   12   11    8\n",
       "3  1998    8    2      1      4    3     5     7   11   12   10    6    9\n",
       "4  1999   10   11      7      6    9     4     3    8    5   12    2    1"
      ]
     },
     "execution_count": 73,
     "metadata": {},
     "output_type": "execute_result"
    }
   ],
   "source": [
    "#look at head of dataframe\n",
    "new_found_df.head()"
   ]
  },
  {
   "cell_type": "code",
   "execution_count": 74,
   "metadata": {},
   "outputs": [
    {
     "data": {
      "text/html": [
       "<div>\n",
       "<style scoped>\n",
       "    .dataframe tbody tr th:only-of-type {\n",
       "        vertical-align: middle;\n",
       "    }\n",
       "\n",
       "    .dataframe tbody tr th {\n",
       "        vertical-align: top;\n",
       "    }\n",
       "\n",
       "    .dataframe thead th {\n",
       "        text-align: right;\n",
       "    }\n",
       "</style>\n",
       "<table border=\"1\" class=\"dataframe\">\n",
       "  <thead>\n",
       "    <tr style=\"text-align: right;\">\n",
       "      <th></th>\n",
       "      <th>Year</th>\n",
       "      <th>Jan</th>\n",
       "      <th>Feb</th>\n",
       "      <th>March</th>\n",
       "      <th>April</th>\n",
       "      <th>May</th>\n",
       "      <th>June</th>\n",
       "      <th>July</th>\n",
       "      <th>Aug</th>\n",
       "      <th>Sep</th>\n",
       "      <th>Oct</th>\n",
       "      <th>Nov</th>\n",
       "      <th>Dec</th>\n",
       "    </tr>\n",
       "  </thead>\n",
       "  <tbody>\n",
       "    <tr>\n",
       "      <th>count</th>\n",
       "      <td>15.000000</td>\n",
       "      <td>15.000000</td>\n",
       "      <td>15.000000</td>\n",
       "      <td>15.000000</td>\n",
       "      <td>15.000000</td>\n",
       "      <td>15.000000</td>\n",
       "      <td>15.000000</td>\n",
       "      <td>15.000000</td>\n",
       "      <td>15.000000</td>\n",
       "      <td>15.000000</td>\n",
       "      <td>15.000000</td>\n",
       "      <td>15.000000</td>\n",
       "      <td>15.000000</td>\n",
       "    </tr>\n",
       "    <tr>\n",
       "      <th>mean</th>\n",
       "      <td>2002.000000</td>\n",
       "      <td>7.133333</td>\n",
       "      <td>6.466667</td>\n",
       "      <td>7.266667</td>\n",
       "      <td>6.666667</td>\n",
       "      <td>6.600000</td>\n",
       "      <td>4.600000</td>\n",
       "      <td>7.400000</td>\n",
       "      <td>6.133333</td>\n",
       "      <td>6.466667</td>\n",
       "      <td>7.866667</td>\n",
       "      <td>5.933333</td>\n",
       "      <td>5.466667</td>\n",
       "    </tr>\n",
       "    <tr>\n",
       "      <th>std</th>\n",
       "      <td>4.472136</td>\n",
       "      <td>3.563038</td>\n",
       "      <td>3.136574</td>\n",
       "      <td>3.514595</td>\n",
       "      <td>3.773340</td>\n",
       "      <td>2.823372</td>\n",
       "      <td>2.947154</td>\n",
       "      <td>3.018988</td>\n",
       "      <td>3.642344</td>\n",
       "      <td>3.248443</td>\n",
       "      <td>3.583029</td>\n",
       "      <td>3.575046</td>\n",
       "      <td>4.405624</td>\n",
       "    </tr>\n",
       "    <tr>\n",
       "      <th>min</th>\n",
       "      <td>1995.000000</td>\n",
       "      <td>1.000000</td>\n",
       "      <td>2.000000</td>\n",
       "      <td>1.000000</td>\n",
       "      <td>2.000000</td>\n",
       "      <td>1.000000</td>\n",
       "      <td>1.000000</td>\n",
       "      <td>3.000000</td>\n",
       "      <td>1.000000</td>\n",
       "      <td>2.000000</td>\n",
       "      <td>1.000000</td>\n",
       "      <td>2.000000</td>\n",
       "      <td>1.000000</td>\n",
       "    </tr>\n",
       "    <tr>\n",
       "      <th>25%</th>\n",
       "      <td>1998.500000</td>\n",
       "      <td>5.000000</td>\n",
       "      <td>4.000000</td>\n",
       "      <td>6.000000</td>\n",
       "      <td>3.500000</td>\n",
       "      <td>5.000000</td>\n",
       "      <td>2.500000</td>\n",
       "      <td>5.000000</td>\n",
       "      <td>3.500000</td>\n",
       "      <td>4.500000</td>\n",
       "      <td>5.500000</td>\n",
       "      <td>3.000000</td>\n",
       "      <td>1.000000</td>\n",
       "    </tr>\n",
       "    <tr>\n",
       "      <th>50%</th>\n",
       "      <td>2002.000000</td>\n",
       "      <td>8.000000</td>\n",
       "      <td>6.000000</td>\n",
       "      <td>7.000000</td>\n",
       "      <td>6.000000</td>\n",
       "      <td>7.000000</td>\n",
       "      <td>4.000000</td>\n",
       "      <td>7.000000</td>\n",
       "      <td>5.000000</td>\n",
       "      <td>6.000000</td>\n",
       "      <td>7.000000</td>\n",
       "      <td>5.000000</td>\n",
       "      <td>4.000000</td>\n",
       "    </tr>\n",
       "    <tr>\n",
       "      <th>75%</th>\n",
       "      <td>2005.500000</td>\n",
       "      <td>9.500000</td>\n",
       "      <td>9.500000</td>\n",
       "      <td>9.500000</td>\n",
       "      <td>9.500000</td>\n",
       "      <td>8.500000</td>\n",
       "      <td>6.000000</td>\n",
       "      <td>10.000000</td>\n",
       "      <td>9.500000</td>\n",
       "      <td>8.500000</td>\n",
       "      <td>11.000000</td>\n",
       "      <td>9.000000</td>\n",
       "      <td>9.500000</td>\n",
       "    </tr>\n",
       "    <tr>\n",
       "      <th>max</th>\n",
       "      <td>2009.000000</td>\n",
       "      <td>11.000000</td>\n",
       "      <td>11.000000</td>\n",
       "      <td>12.000000</td>\n",
       "      <td>12.000000</td>\n",
       "      <td>11.000000</td>\n",
       "      <td>12.000000</td>\n",
       "      <td>12.000000</td>\n",
       "      <td>11.000000</td>\n",
       "      <td>12.000000</td>\n",
       "      <td>12.000000</td>\n",
       "      <td>12.000000</td>\n",
       "      <td>12.000000</td>\n",
       "    </tr>\n",
       "  </tbody>\n",
       "</table>\n",
       "</div>"
      ],
      "text/plain": [
       "              Year        Jan        Feb      March      April        May  \\\n",
       "count    15.000000  15.000000  15.000000  15.000000  15.000000  15.000000   \n",
       "mean   2002.000000   7.133333   6.466667   7.266667   6.666667   6.600000   \n",
       "std       4.472136   3.563038   3.136574   3.514595   3.773340   2.823372   \n",
       "min    1995.000000   1.000000   2.000000   1.000000   2.000000   1.000000   \n",
       "25%    1998.500000   5.000000   4.000000   6.000000   3.500000   5.000000   \n",
       "50%    2002.000000   8.000000   6.000000   7.000000   6.000000   7.000000   \n",
       "75%    2005.500000   9.500000   9.500000   9.500000   9.500000   8.500000   \n",
       "max    2009.000000  11.000000  11.000000  12.000000  12.000000  11.000000   \n",
       "\n",
       "            June       July        Aug        Sep        Oct        Nov  \\\n",
       "count  15.000000  15.000000  15.000000  15.000000  15.000000  15.000000   \n",
       "mean    4.600000   7.400000   6.133333   6.466667   7.866667   5.933333   \n",
       "std     2.947154   3.018988   3.642344   3.248443   3.583029   3.575046   \n",
       "min     1.000000   3.000000   1.000000   2.000000   1.000000   2.000000   \n",
       "25%     2.500000   5.000000   3.500000   4.500000   5.500000   3.000000   \n",
       "50%     4.000000   7.000000   5.000000   6.000000   7.000000   5.000000   \n",
       "75%     6.000000  10.000000   9.500000   8.500000  11.000000   9.000000   \n",
       "max    12.000000  12.000000  11.000000  12.000000  12.000000  12.000000   \n",
       "\n",
       "             Dec  \n",
       "count  15.000000  \n",
       "mean    5.466667  \n",
       "std     4.405624  \n",
       "min     1.000000  \n",
       "25%     1.000000  \n",
       "50%     4.000000  \n",
       "75%     9.500000  \n",
       "max    12.000000  "
      ]
     },
     "execution_count": 74,
     "metadata": {},
     "output_type": "execute_result"
    }
   ],
   "source": [
    "#look at the statistical characteristics of dataframe\n",
    "details = new_found_df.describe()\n",
    "details"
   ]
  },
  {
   "cell_type": "code",
   "execution_count": 75,
   "metadata": {},
   "outputs": [
    {
     "data": {
      "image/png": "[encoded data removed]",
      "text/plain": [
       "<Figure size 432x288 with 1 Axes>"
      ]
     },
     "metadata": {},
     "output_type": "display_data"
    }
   ],
   "source": [
    "#plot the volatility as a line graph by period\n",
    "\n",
    "new_found_df.plot(x=\"Year\", y=[\"Jan\", \"Feb\", \"March\", \"April\", \"May\", \"June\", \"July\", \"Aug\", \"Sep\", \"Oct\", \"Nov\", \"Dec\"])\n",
    "\n",
    "plt.ylabel('Rank')\n",
    "plt.title('Monthly Volatility Rank for Year')\n",
    "plt.show()\n"
   ]
  },
  {
   "cell_type": "code",
   "execution_count": 77,
   "metadata": {},
   "outputs": [
    {
     "data": {
      "image/png": "[encoded data removed]",
      "text/plain": [
       "<Figure size 432x288 with 1 Axes>"
      ]
     },
     "metadata": {},
     "output_type": "display_data"
    }
   ],
   "source": [
    "#plot just a few months in attempt to make more sense of data \n",
    "\n",
    "new_found_df.plot(x=\"Year\", y=[\"June\", \"July\", \"Aug\"])\n",
    "plt.ylabel('Rank')\n",
    "plt.title('Monthly Volatility Rank for Year (Summer)')\n",
    "plt.show()"
   ]
  },
  {
   "cell_type": "code",
   "execution_count": 79,
   "metadata": {},
   "outputs": [
    {
     "data": {
      "text/plain": [
       "Jan      7.133333\n",
       "Feb      6.466667\n",
       "March    7.266667\n",
       "April    6.666667\n",
       "May      6.600000\n",
       "June     4.600000\n",
       "July     7.400000\n",
       "Aug      6.133333\n",
       "Sep      6.466667\n",
       "Oct      7.866667\n",
       "Nov      5.933333\n",
       "Dec      5.466667\n",
       "dtype: float64"
      ]
     },
     "execution_count": 79,
     "metadata": {},
     "output_type": "execute_result"
    }
   ],
   "source": [
    "#create dataframe to chart the averages by month \n",
    "barchart_df = new_found_df.drop(columns=['Year'])\n",
    "\n",
    "barchart_df = barchart_df.mean(axis=0)\n",
    "\n",
    "barchart_df"
   ]
  },
  {
   "cell_type": "code",
   "execution_count": 82,
   "metadata": {},
   "outputs": [
    {
     "data": {
      "image/png": "[encoded data removed]",
      "text/plain": [
       "<Figure size 432x288 with 1 Axes>"
      ]
     },
     "metadata": {},
     "output_type": "display_data"
    }
   ],
   "source": [
    "#chart the nmonthly averages\n",
    "\n",
    "barchart_df.plot(kind='bar') \n",
    "\n",
    "plt.ylabel('Rank')\n",
    "plt.title('Average Monthly Rank Over Period')\n",
    "\n",
    "\n",
    "plt.show()"
   ]
  },
  {
   "cell_type": "code",
   "execution_count": 83,
   "metadata": {},
   "outputs": [
    {
     "data": {
      "image/png": "[encoded data removed]",
      "text/plain": [
       "<Figure size 2160x1080 with 16 Axes>"
      ]
     },
     "metadata": {},
     "output_type": "display_data"
    }
   ],
   "source": [
    "#plot histograms of the dataframe by month\n",
    "\n",
    "new_found_df.hist(bins = 12, edgecolor='black', linewidth=1.2, figsize=(30,15) );"
   ]
  },
  {
   "cell_type": "code",
   "execution_count": 52,
   "metadata": {},
   "outputs": [
    {
     "data": {
      "image/png": "[encoded data removed]",
      "text/plain": [
       "<Figure size 432x288 with 1 Axes>"
      ]
     },
     "metadata": {},
     "output_type": "display_data"
    }
   ],
   "source": [
    "#plot individual month for better view \n",
    "new_found_df.Aug.hist(bins=12, edgecolor='black', linewidth=1.2);"
   ]
  },
  {
   "cell_type": "code",
   "execution_count": 44,
   "metadata": {},
   "outputs": [
    {
     "data": {
      "image/png": "[encoded data removed]",
      "text/plain": [
       "<Figure size 432x288 with 1 Axes>"
      ]
     },
     "metadata": {},
     "output_type": "display_data"
    }
   ],
   "source": [
    "#plot individual month for better view \n",
    "new_found_df.Oct.hist(bins=12);"
   ]
  },
  {
   "cell_type": "code",
   "execution_count": 45,
   "metadata": {},
   "outputs": [
    {
     "data": {
      "image/png": "[encoded data removed]",
      "text/plain": [
       "<Figure size 432x288 with 1 Axes>"
      ]
     },
     "metadata": {},
     "output_type": "display_data"
    }
   ],
   "source": [
    "#plot individual month for better view \n",
    "new_found_df.Feb.hist(bins=12);"
   ]
  },
  {
   "cell_type": "code",
   "execution_count": null,
   "metadata": {},
   "outputs": [],
   "source": []
  },
  {
   "cell_type": "code",
   "execution_count": null,
   "metadata": {},
   "outputs": [],
   "source": []
  },
  {
   "cell_type": "code",
   "execution_count": null,
   "metadata": {},
   "outputs": [],
   "source": []
  },
  {
   "cell_type": "code",
   "execution_count": null,
   "metadata": {},
   "outputs": [],
   "source": []
  }
 ],
 "metadata": {
  "kernelspec": {
   "display_name": "Python 3",
   "language": "python",
   "name": "python3"
  },
  "language_info": {
   "codemirror_mode": {
    "name": "ipython",
    "version": 3
   },
   "file_extension": ".py",
   "mimetype": "text/x-python",
   "name": "python",
   "nbconvert_exporter": "python",
   "pygments_lexer": "ipython3",
   "version": "3.6.5"
  }
 },
 "nbformat": 4,
 "nbformat_minor": 2
}
